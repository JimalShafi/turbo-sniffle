{
 "cells": [
  {
   "cell_type": "markdown",
   "metadata": {},
   "source": [
    "## Importing Libraries"
   ]
  },
  {
   "cell_type": "code",
   "execution_count": 120,
   "metadata": {},
   "outputs": [],
   "source": [
    "import pandas as pd\n",
    "import sqlite3\n"
   ]
  },
  {
   "cell_type": "markdown",
   "metadata": {},
   "source": [
    "## Data Loading"
   ]
  },
  {
   "cell_type": "code",
   "execution_count": 121,
   "metadata": {},
   "outputs": [],
   "source": [
    "def load_box_office_mojo_data(filepath):\n",
    "    return pd.read_csv(filepath, compression='gzip')\n"
   ]
  },
  {
   "cell_type": "code",
   "execution_count": 122,
   "metadata": {},
   "outputs": [],
   "source": [
    "def load_imdb_data(db_path):\n",
    "    conn = sqlite3.connect(db_path)\n",
    "    movie_basics = pd.read_sql_query(\"SELECT * FROM movie_basics\", conn)\n",
    "    movie_ratings = pd.read_sql_query(\"SELECT * FROM movie_ratings\", conn)\n",
    "    conn.close()\n",
    "    return movie_basics, movie_ratings"
   ]
  },
  {
   "cell_type": "code",
   "execution_count": 123,
   "metadata": {},
   "outputs": [
    {
     "name": "stdout",
     "output_type": "stream",
     "text": [
      "Current working directory: d:\\DS-PROJECT ONE\n",
      "Box Office Mojo Data:\n"
     ]
    },
    {
     "data": {
      "text/html": [
       "<div>\n",
       "<style scoped>\n",
       "    .dataframe tbody tr th:only-of-type {\n",
       "        vertical-align: middle;\n",
       "    }\n",
       "\n",
       "    .dataframe tbody tr th {\n",
       "        vertical-align: top;\n",
       "    }\n",
       "\n",
       "    .dataframe thead th {\n",
       "        text-align: right;\n",
       "    }\n",
       "</style>\n",
       "<table border=\"1\" class=\"dataframe\">\n",
       "  <thead>\n",
       "    <tr style=\"text-align: right;\">\n",
       "      <th></th>\n",
       "      <th>title</th>\n",
       "      <th>studio</th>\n",
       "      <th>domestic_gross</th>\n",
       "      <th>foreign_gross</th>\n",
       "      <th>year</th>\n",
       "    </tr>\n",
       "  </thead>\n",
       "  <tbody>\n",
       "    <tr>\n",
       "      <th>0</th>\n",
       "      <td>Toy Story 3</td>\n",
       "      <td>BV</td>\n",
       "      <td>415000000.0</td>\n",
       "      <td>652000000</td>\n",
       "      <td>2010</td>\n",
       "    </tr>\n",
       "    <tr>\n",
       "      <th>1</th>\n",
       "      <td>Alice in Wonderland (2010)</td>\n",
       "      <td>BV</td>\n",
       "      <td>334200000.0</td>\n",
       "      <td>691300000</td>\n",
       "      <td>2010</td>\n",
       "    </tr>\n",
       "    <tr>\n",
       "      <th>2</th>\n",
       "      <td>Harry Potter and the Deathly Hallows Part 1</td>\n",
       "      <td>WB</td>\n",
       "      <td>296000000.0</td>\n",
       "      <td>664300000</td>\n",
       "      <td>2010</td>\n",
       "    </tr>\n",
       "    <tr>\n",
       "      <th>3</th>\n",
       "      <td>Inception</td>\n",
       "      <td>WB</td>\n",
       "      <td>292600000.0</td>\n",
       "      <td>535700000</td>\n",
       "      <td>2010</td>\n",
       "    </tr>\n",
       "    <tr>\n",
       "      <th>4</th>\n",
       "      <td>Shrek Forever After</td>\n",
       "      <td>P/DW</td>\n",
       "      <td>238700000.0</td>\n",
       "      <td>513900000</td>\n",
       "      <td>2010</td>\n",
       "    </tr>\n",
       "  </tbody>\n",
       "</table>\n",
       "</div>"
      ],
      "text/plain": [
       "                                         title studio  domestic_gross  \\\n",
       "0                                  Toy Story 3     BV     415000000.0   \n",
       "1                   Alice in Wonderland (2010)     BV     334200000.0   \n",
       "2  Harry Potter and the Deathly Hallows Part 1     WB     296000000.0   \n",
       "3                                    Inception     WB     292600000.0   \n",
       "4                          Shrek Forever After   P/DW     238700000.0   \n",
       "\n",
       "  foreign_gross  year  \n",
       "0     652000000  2010  \n",
       "1     691300000  2010  \n",
       "2     664300000  2010  \n",
       "3     535700000  2010  \n",
       "4     513900000  2010  "
      ]
     },
     "metadata": {},
     "output_type": "display_data"
    },
    {
     "name": "stdout",
     "output_type": "stream",
     "text": [
      "\n",
      "Movie Basics Data:\n"
     ]
    },
    {
     "data": {
      "text/html": [
       "<div>\n",
       "<style scoped>\n",
       "    .dataframe tbody tr th:only-of-type {\n",
       "        vertical-align: middle;\n",
       "    }\n",
       "\n",
       "    .dataframe tbody tr th {\n",
       "        vertical-align: top;\n",
       "    }\n",
       "\n",
       "    .dataframe thead th {\n",
       "        text-align: right;\n",
       "    }\n",
       "</style>\n",
       "<table border=\"1\" class=\"dataframe\">\n",
       "  <thead>\n",
       "    <tr style=\"text-align: right;\">\n",
       "      <th></th>\n",
       "      <th>movie_id</th>\n",
       "      <th>primary_title</th>\n",
       "      <th>original_title</th>\n",
       "      <th>start_year</th>\n",
       "      <th>runtime_minutes</th>\n",
       "      <th>genres</th>\n",
       "    </tr>\n",
       "  </thead>\n",
       "  <tbody>\n",
       "    <tr>\n",
       "      <th>0</th>\n",
       "      <td>tt0063540</td>\n",
       "      <td>Sunghursh</td>\n",
       "      <td>Sunghursh</td>\n",
       "      <td>2013</td>\n",
       "      <td>175.0</td>\n",
       "      <td>Action,Crime,Drama</td>\n",
       "    </tr>\n",
       "    <tr>\n",
       "      <th>1</th>\n",
       "      <td>tt0066787</td>\n",
       "      <td>One Day Before the Rainy Season</td>\n",
       "      <td>Ashad Ka Ek Din</td>\n",
       "      <td>2019</td>\n",
       "      <td>114.0</td>\n",
       "      <td>Biography,Drama</td>\n",
       "    </tr>\n",
       "    <tr>\n",
       "      <th>2</th>\n",
       "      <td>tt0069049</td>\n",
       "      <td>The Other Side of the Wind</td>\n",
       "      <td>The Other Side of the Wind</td>\n",
       "      <td>2018</td>\n",
       "      <td>122.0</td>\n",
       "      <td>Drama</td>\n",
       "    </tr>\n",
       "    <tr>\n",
       "      <th>3</th>\n",
       "      <td>tt0069204</td>\n",
       "      <td>Sabse Bada Sukh</td>\n",
       "      <td>Sabse Bada Sukh</td>\n",
       "      <td>2018</td>\n",
       "      <td>NaN</td>\n",
       "      <td>Comedy,Drama</td>\n",
       "    </tr>\n",
       "    <tr>\n",
       "      <th>4</th>\n",
       "      <td>tt0100275</td>\n",
       "      <td>The Wandering Soap Opera</td>\n",
       "      <td>La Telenovela Errante</td>\n",
       "      <td>2017</td>\n",
       "      <td>80.0</td>\n",
       "      <td>Comedy,Drama,Fantasy</td>\n",
       "    </tr>\n",
       "  </tbody>\n",
       "</table>\n",
       "</div>"
      ],
      "text/plain": [
       "    movie_id                    primary_title              original_title  \\\n",
       "0  tt0063540                        Sunghursh                   Sunghursh   \n",
       "1  tt0066787  One Day Before the Rainy Season             Ashad Ka Ek Din   \n",
       "2  tt0069049       The Other Side of the Wind  The Other Side of the Wind   \n",
       "3  tt0069204                  Sabse Bada Sukh             Sabse Bada Sukh   \n",
       "4  tt0100275         The Wandering Soap Opera       La Telenovela Errante   \n",
       "\n",
       "   start_year  runtime_minutes                genres  \n",
       "0        2013            175.0    Action,Crime,Drama  \n",
       "1        2019            114.0       Biography,Drama  \n",
       "2        2018            122.0                 Drama  \n",
       "3        2018              NaN          Comedy,Drama  \n",
       "4        2017             80.0  Comedy,Drama,Fantasy  "
      ]
     },
     "metadata": {},
     "output_type": "display_data"
    },
    {
     "name": "stdout",
     "output_type": "stream",
     "text": [
      "\n",
      "Movie Ratings Data:\n"
     ]
    },
    {
     "data": {
      "text/html": [
       "<div>\n",
       "<style scoped>\n",
       "    .dataframe tbody tr th:only-of-type {\n",
       "        vertical-align: middle;\n",
       "    }\n",
       "\n",
       "    .dataframe tbody tr th {\n",
       "        vertical-align: top;\n",
       "    }\n",
       "\n",
       "    .dataframe thead th {\n",
       "        text-align: right;\n",
       "    }\n",
       "</style>\n",
       "<table border=\"1\" class=\"dataframe\">\n",
       "  <thead>\n",
       "    <tr style=\"text-align: right;\">\n",
       "      <th></th>\n",
       "      <th>movie_id</th>\n",
       "      <th>averagerating</th>\n",
       "      <th>numvotes</th>\n",
       "    </tr>\n",
       "  </thead>\n",
       "  <tbody>\n",
       "    <tr>\n",
       "      <th>0</th>\n",
       "      <td>tt10356526</td>\n",
       "      <td>8.3</td>\n",
       "      <td>31</td>\n",
       "    </tr>\n",
       "    <tr>\n",
       "      <th>1</th>\n",
       "      <td>tt10384606</td>\n",
       "      <td>8.9</td>\n",
       "      <td>559</td>\n",
       "    </tr>\n",
       "    <tr>\n",
       "      <th>2</th>\n",
       "      <td>tt1042974</td>\n",
       "      <td>6.4</td>\n",
       "      <td>20</td>\n",
       "    </tr>\n",
       "    <tr>\n",
       "      <th>3</th>\n",
       "      <td>tt1043726</td>\n",
       "      <td>4.2</td>\n",
       "      <td>50352</td>\n",
       "    </tr>\n",
       "    <tr>\n",
       "      <th>4</th>\n",
       "      <td>tt1060240</td>\n",
       "      <td>6.5</td>\n",
       "      <td>21</td>\n",
       "    </tr>\n",
       "  </tbody>\n",
       "</table>\n",
       "</div>"
      ],
      "text/plain": [
       "     movie_id  averagerating  numvotes\n",
       "0  tt10356526            8.3        31\n",
       "1  tt10384606            8.9       559\n",
       "2   tt1042974            6.4        20\n",
       "3   tt1043726            4.2     50352\n",
       "4   tt1060240            6.5        21"
      ]
     },
     "metadata": {},
     "output_type": "display_data"
    }
   ],
   "source": [
    "import pandas as pd\n",
    "import sqlite3\n",
    "import os\n",
    "\n",
    "def load_box_office_mojo_data(filepath):\n",
    "    return pd.read_csv(filepath)\n",
    "\n",
    "def load_imdb_data(db_path):\n",
    "    conn = sqlite3.connect(db_path)\n",
    "    movie_basics = pd.read_sql_query(\"SELECT * FROM movie_basics\", conn)\n",
    "    movie_ratings = pd.read_sql_query(\"SELECT * FROM movie_ratings\", conn)\n",
    "    conn.close()\n",
    "    return movie_basics, movie_ratings\n",
    "\n",
    "# Check the current working directory\n",
    "print(f\"Current working directory: {os.getcwd()}\")\n",
    "\n",
    "# Adjust the paths according to your folder structure\n",
    "box_office_mojo_path = 'Data/bom.movie_gross.csv'\n",
    "imdb_data_path = 'Data/im.db'\n",
    "\n",
    "try:\n",
    "    bom_data = load_box_office_mojo_data(box_office_mojo_path)\n",
    "    movie_basics, movie_ratings = load_imdb_data(imdb_data_path)\n",
    "    \n",
    "    # Display the first few rows of the datasets\n",
    "    print(\"Box Office Mojo Data:\")\n",
    "    display(bom_data.head())\n",
    "\n",
    "    print(\"\\nMovie Basics Data:\")\n",
    "    display(movie_basics.head())\n",
    "\n",
    "    print(\"\\nMovie Ratings Data:\")\n",
    "    display(movie_ratings.head())\n",
    "\n",
    "except FileNotFoundError as e:\n",
    "    print(f\"Error: {e}\")\n",
    "    print(\"Please ensure that the files 'bom.movie_gross.csv' and 'im.db' are located in the 'Data' directory.\")\n"
   ]
  },
  {
   "cell_type": "markdown",
   "metadata": {},
   "source": [
    "### Data Cleaning"
   ]
  },
  {
   "cell_type": "code",
   "execution_count": 124,
   "metadata": {},
   "outputs": [],
   "source": [
    "def clean_box_office_data(df):\n",
    "    df = df.dropna(subset=['domestic_gross'])\n",
    "    df['domestic_gross'] = df['domestic_gross'].replace('[\\$,]', '', regex=True).astype(float)\n",
    "    return df\n",
    "\n",
    "def merge_imdb_data(movie_basics, movie_ratings):\n",
    "    return pd.merge(movie_basics, movie_ratings, on='tconst', how='inner')\n"
   ]
  },
  {
   "cell_type": "code",
   "execution_count": 125,
   "metadata": {},
   "outputs": [],
   "source": [
    "import pandas as pd\n",
    "import sqlite3\n",
    "import os\n"
   ]
  },
  {
   "cell_type": "code",
   "execution_count": 126,
   "metadata": {},
   "outputs": [],
   "source": [
    "def load_box_office_mojo_data(filepath):\n",
    "    return pd.read_csv(filepath)\n"
   ]
  },
  {
   "cell_type": "code",
   "execution_count": 127,
   "metadata": {},
   "outputs": [],
   "source": [
    "# Function to load IMDb data\n",
    "def load_imdb_data(db_path):\n",
    "    conn = sqlite3.connect(db_path)\n",
    "    movie_basics = pd.read_sql_query(\"SELECT * FROM movie_basics\", conn)\n",
    "    movie_ratings = pd.read_sql_query(\"SELECT * FROM movie_ratings\", conn)\n",
    "    conn.close()\n",
    "    return movie_basics, movie_ratings"
   ]
  },
  {
   "cell_type": "code",
   "execution_count": 128,
   "metadata": {},
   "outputs": [],
   "source": [
    "# Function to clean box office data\n",
    "def clean_box_office_data(df):\n",
    "    \"\"\"\n",
    "    Clean the box office data by dropping rows with missing values in the 'domestic_gross' column\n",
    "    and converting the 'domestic_gross' column to float.\n",
    "    \n",
    "    Parameters:\n",
    "    - df: DataFrame containing box office data\n",
    "    \n",
    "    Returns:\n",
    "    - Cleaned DataFrame\n",
    "    \"\"\"\n",
    "    # Drop rows with missing values in the 'domestic_gross' column\n",
    "    df = df.dropna(subset=['domestic_gross'])\n",
    "    \n",
    "    # Remove any commas and dollar signs from the 'domestic_gross' column and convert to float\n",
    "    df['domestic_gross'] = df['domestic_gross'].replace('[\\$,]', '', regex=True).astype(float)\n",
    "    \n",
    "    return df"
   ]
  },
  {
   "cell_type": "code",
   "execution_count": 129,
   "metadata": {},
   "outputs": [],
   "source": [
    "\n",
    "# Function to clean and merge IMDb data\n",
    "def clean_imdb_data(movie_basics, movie_ratings):\n",
    "    \"\"\"\n",
    "    Merge and clean IMDb movie data by merging the 'movie_basics' and 'movie_ratings' DataFrames\n",
    "    on the 'tconst' column.\n",
    "    \n",
    "    Parameters:\n",
    "    - movie_basics: DataFrame containing basic movie information\n",
    "    - movie_ratings: DataFrame containing movie ratings\n",
    "    \n",
    "    Returns:\n",
    "    - Cleaned DataFrame after merging\n",
    "    \"\"\"\n",
    "    # Merge the movie_basics and movie_ratings DataFrames on the 'tconst' column\n",
    "    merged_data = pd.merge(movie_basics, movie_ratings, on='tconst', how='inner')\n",
    "    \n",
    "    return merged_data"
   ]
  },
  {
   "cell_type": "code",
   "execution_count": 130,
   "metadata": {},
   "outputs": [
    {
     "name": "stdout",
     "output_type": "stream",
     "text": [
      "Current working directory: d:\\DS-PROJECT ONE\n"
     ]
    }
   ],
   "source": [
    "# Check the current working directory\n",
    "print(f\"Current working directory: {os.getcwd()}\")"
   ]
  },
  {
   "cell_type": "code",
   "execution_count": 131,
   "metadata": {},
   "outputs": [],
   "source": [
    "# Adjust the paths according to your folder structure\n",
    "box_office_mojo_path = 'Data/bom.movie_gross.csv'\n",
    "imdb_data_path = 'Data/im.db'\n"
   ]
  },
  {
   "cell_type": "code",
   "execution_count": 132,
   "metadata": {},
   "outputs": [],
   "source": [
    "def clean_box_office_data(df):\n",
    "    # Create a copy of the DataFrame to avoid modifying the original data\n",
    "    df_cleaned = df.copy()\n",
    "    \n",
    "    # Drop rows with missing values in 'domestic_gross' column\n",
    "    df_cleaned = df_cleaned.dropna(subset=['domestic_gross'])\n",
    "    \n",
    "    # Replace characters '$' and ',' with an empty string, and convert to float\n",
    "    df_cleaned['domestic_gross'] = df_cleaned['domestic_gross'].replace('[\\$,]', '', regex=True).astype(float)\n",
    "    \n",
    "    return df_cleaned"
   ]
  },
  {
   "cell_type": "code",
   "execution_count": 133,
   "metadata": {},
   "outputs": [],
   "source": [
    "def clean_box_office_data(df):\n",
    "    # Create a copy of the DataFrame to avoid modifying the original data\n",
    "    df_cleaned = df.copy()\n",
    "    \n",
    "    # Drop rows with missing values in 'domestic_gross' column\n",
    "    df_cleaned = df_cleaned.dropna(subset=['domestic_gross'])\n",
    "    \n",
    "    # Replace characters '$' and ',' with an empty string, and convert to float\n",
    "    df_cleaned['domestic_gross'] = df_cleaned['domestic_gross'].replace('[\\$,]', '', regex=True).astype(float)\n",
    "    \n",
    "    return df_cleaned\n",
    "\n",
    "def clean_imdb_data(movie_basics, movie_ratings):\n",
    "    # Ensure the 'tconst' column exists in both DataFrames\n",
    "    if 'tconst' not in movie_basics.columns or 'tconst' not in movie_ratings.columns:\n",
    "        raise KeyError(\"The 'tconst' column is missing in one of the DataFrames.\")\n",
    "    \n",
    "    # Merge the movie_basics and movie_ratings DataFrames on the 'tconst' column\n",
    "    merged_data = pd.merge(movie_basics, movie_ratings, on='tconst', how='inner')\n",
    "    \n",
    "    return merged_data\n"
   ]
  },
  {
   "cell_type": "code",
   "execution_count": 134,
   "metadata": {},
   "outputs": [
    {
     "name": "stdout",
     "output_type": "stream",
     "text": [
      "Error: \"The 'tconst' column is missing in one of the DataFrames.\"\n",
      "The 'tconst' column is missing in one of the DataFrames. Please check the data.\n"
     ]
    }
   ],
   "source": [
    "# Adjust the paths according to your folder structure\n",
    "box_office_mojo_path = 'Data/bom.movie_gross.csv'\n",
    "imdb_data_path = 'Data/im.db'\n",
    "\n",
    "try:\n",
    "    # Load the data\n",
    "    bom_data = load_box_office_mojo_data(box_office_mojo_path)\n",
    "    movie_basics, movie_ratings = load_imdb_data(imdb_data_path)\n",
    "    \n",
    "    # Clean the data\n",
    "    cleaned_bom_data = clean_box_office_data(bom_data)\n",
    "    cleaned_imdb_data = clean_imdb_data(movie_basics, movie_ratings)\n",
    "    \n",
    "    # Display the cleaned data\n",
    "    print(\"Cleaned Box Office Mojo Data:\")\n",
    "    display(cleaned_bom_data.head())\n",
    "\n",
    "    print(\"\\nMerged IMDb Data:\")\n",
    "    display(cleaned_imdb_data.head())\n",
    "\n",
    "except FileNotFoundError as e:\n",
    "    print(f\"Error: {e}\")\n",
    "    print(\"Please ensure that the files 'bom.movie_gross.csv' and 'im.db' are located in the 'Data' directory.\")\n",
    "\n",
    "except KeyError as e:\n",
    "    print(f\"Error: {e}\")\n",
    "    print(\"The 'tconst' column is missing in one of the DataFrames. Please check the data.\")\n"
   ]
  },
  {
   "cell_type": "code",
   "execution_count": 135,
   "metadata": {},
   "outputs": [],
   "source": [
    "import pandas as pd\n",
    "import sqlite3\n",
    "import os\n",
    "\n",
    "def load_box_office_mojo_data(filepath):\n",
    "    return pd.read_csv(filepath)\n",
    "\n",
    "def load_imdb_data(db_path):\n",
    "    conn = sqlite3.connect(db_path)\n",
    "    movie_basics = pd.read_sql_query(\"SELECT * FROM movie_basics\", conn)\n",
    "    movie_ratings = pd.read_sql_query(\"SELECT * FROM movie_ratings\", conn)\n",
    "    conn.close()\n",
    "    return movie_basics, movie_ratings\n",
    "\n",
    "def clean_box_office_data(df):\n",
    "    df_cleaned = df.copy()\n",
    "    df_cleaned = df_cleaned.dropna(subset=['domestic_gross'])\n",
    "    df_cleaned['domestic_gross'] = df_cleaned['domestic_gross'].replace('[\\$,]', '', regex=True).astype(float)\n",
    "    return df_cleaned\n",
    "\n",
    "def clean_imdb_data(movie_basics, movie_ratings):\n",
    "    # Check the columns of both DataFrames\n",
    "    print(\"Columns in movie_basics:\", movie_basics.columns)\n",
    "    print(\"Columns in movie_ratings:\", movie_ratings.columns)\n",
    "    \n",
    "    if 'tconst' not in movie_basics.columns or 'tconst' not in movie_ratings.columns:\n",
    "        raise KeyError(\"The 'tconst' column is missing in one of the DataFrames.\")\n",
    "    \n",
    "    merged_data = pd.merge(movie_basics, movie_ratings, on='tconst', how='inner')\n",
    "    return merged_data\n"
   ]
  },
  {
   "cell_type": "code",
   "execution_count": 136,
   "metadata": {},
   "outputs": [
    {
     "name": "stdout",
     "output_type": "stream",
     "text": [
      "Columns in movie_basics: Index(['movie_id', 'primary_title', 'original_title', 'start_year',\n",
      "       'runtime_minutes', 'genres'],\n",
      "      dtype='object')\n",
      "Columns in movie_ratings: Index(['movie_id', 'averagerating', 'numvotes'], dtype='object')\n",
      "Error: \"The 'tconst' column is missing in one of the DataFrames.\"\n",
      "The 'tconst' column is missing in one of the DataFrames. Please check the data.\n"
     ]
    }
   ],
   "source": [
    "box_office_mojo_path = 'Data/bom.movie_gross.csv'\n",
    "imdb_data_path = 'Data/im.db'\n",
    "\n",
    "try:\n",
    "    # Load the data\n",
    "    bom_data = load_box_office_mojo_data(box_office_mojo_path)\n",
    "    movie_basics, movie_ratings = load_imdb_data(imdb_data_path)\n",
    "    \n",
    "    # Clean the data\n",
    "    cleaned_bom_data = clean_box_office_data(bom_data)\n",
    "    cleaned_imdb_data = clean_imdb_data(movie_basics, movie_ratings)\n",
    "    \n",
    "    # Display the cleaned data\n",
    "    print(\"Cleaned Box Office Mojo Data:\")\n",
    "    display(cleaned_bom_data.head())\n",
    "\n",
    "    print(\"\\nMerged IMDb Data:\")\n",
    "    display(cleaned_imdb_data.head())\n",
    "\n",
    "except FileNotFoundError as e:\n",
    "    print(f\"Error: {e}\")\n",
    "    print(\"Please ensure that the files 'bom.movie_gross.csv' and 'im.db' are located in the 'Data' directory.\")\n",
    "\n",
    "except KeyError as e:\n",
    "    print(f\"Error: {e}\")\n",
    "    print(\"The 'tconst' column is missing in one of the DataFrames. Please check the data.\")\n"
   ]
  },
  {
   "cell_type": "code",
   "execution_count": 137,
   "metadata": {},
   "outputs": [],
   "source": [
    "import pandas as pd\n",
    "import sqlite3\n",
    "import os\n",
    "\n",
    "def load_box_office_mojo_data(filepath):\n",
    "    return pd.read_csv(filepath)\n",
    "\n",
    "def load_imdb_data(db_path):\n",
    "    conn = sqlite3.connect(db_path)\n",
    "    movie_basics = pd.read_sql_query(\"SELECT * FROM movie_basics\", conn)\n",
    "    movie_ratings = pd.read_sql_query(\"SELECT * FROM movie_ratings\", conn)\n",
    "    conn.close()\n",
    "    return movie_basics, movie_ratings\n",
    "\n",
    "def clean_box_office_data(df):\n",
    "    df_cleaned = df.copy()\n",
    "    df_cleaned = df_cleaned.dropna(subset=['domestic_gross'])\n",
    "    df_cleaned['domestic_gross'] = df_cleaned['domestic_gross'].replace('[\\$,]', '', regex=True).astype(float)\n",
    "    return df_cleaned\n",
    "\n",
    "def clean_imdb_data(movie_basics, movie_ratings):\n",
    "    # Check the columns of both DataFrames\n",
    "    print(\"Columns in movie_basics:\", movie_basics.columns)\n",
    "    print(\"Columns in movie_ratings:\", movie_ratings.columns)\n",
    "    \n",
    "    if 'movie_id' not in movie_basics.columns or 'movie_id' not in movie_ratings.columns:\n",
    "        raise KeyError(\"The 'movie_id' column is missing in one of the DataFrames.\")\n",
    "    \n",
    "    merged_data = pd.merge(movie_basics, movie_ratings, on='movie_id', how='inner')\n",
    "    return merged_data\n"
   ]
  },
  {
   "cell_type": "code",
   "execution_count": 138,
   "metadata": {},
   "outputs": [
    {
     "name": "stdout",
     "output_type": "stream",
     "text": [
      "Columns in movie_basics: Index(['movie_id', 'primary_title', 'original_title', 'start_year',\n",
      "       'runtime_minutes', 'genres'],\n",
      "      dtype='object')\n",
      "Columns in movie_ratings: Index(['movie_id', 'averagerating', 'numvotes'], dtype='object')\n",
      "Cleaned Box Office Mojo Data:\n"
     ]
    },
    {
     "data": {
      "text/html": [
       "<div>\n",
       "<style scoped>\n",
       "    .dataframe tbody tr th:only-of-type {\n",
       "        vertical-align: middle;\n",
       "    }\n",
       "\n",
       "    .dataframe tbody tr th {\n",
       "        vertical-align: top;\n",
       "    }\n",
       "\n",
       "    .dataframe thead th {\n",
       "        text-align: right;\n",
       "    }\n",
       "</style>\n",
       "<table border=\"1\" class=\"dataframe\">\n",
       "  <thead>\n",
       "    <tr style=\"text-align: right;\">\n",
       "      <th></th>\n",
       "      <th>title</th>\n",
       "      <th>studio</th>\n",
       "      <th>domestic_gross</th>\n",
       "      <th>foreign_gross</th>\n",
       "      <th>year</th>\n",
       "    </tr>\n",
       "  </thead>\n",
       "  <tbody>\n",
       "    <tr>\n",
       "      <th>0</th>\n",
       "      <td>Toy Story 3</td>\n",
       "      <td>BV</td>\n",
       "      <td>415000000.0</td>\n",
       "      <td>652000000</td>\n",
       "      <td>2010</td>\n",
       "    </tr>\n",
       "    <tr>\n",
       "      <th>1</th>\n",
       "      <td>Alice in Wonderland (2010)</td>\n",
       "      <td>BV</td>\n",
       "      <td>334200000.0</td>\n",
       "      <td>691300000</td>\n",
       "      <td>2010</td>\n",
       "    </tr>\n",
       "    <tr>\n",
       "      <th>2</th>\n",
       "      <td>Harry Potter and the Deathly Hallows Part 1</td>\n",
       "      <td>WB</td>\n",
       "      <td>296000000.0</td>\n",
       "      <td>664300000</td>\n",
       "      <td>2010</td>\n",
       "    </tr>\n",
       "    <tr>\n",
       "      <th>3</th>\n",
       "      <td>Inception</td>\n",
       "      <td>WB</td>\n",
       "      <td>292600000.0</td>\n",
       "      <td>535700000</td>\n",
       "      <td>2010</td>\n",
       "    </tr>\n",
       "    <tr>\n",
       "      <th>4</th>\n",
       "      <td>Shrek Forever After</td>\n",
       "      <td>P/DW</td>\n",
       "      <td>238700000.0</td>\n",
       "      <td>513900000</td>\n",
       "      <td>2010</td>\n",
       "    </tr>\n",
       "  </tbody>\n",
       "</table>\n",
       "</div>"
      ],
      "text/plain": [
       "                                         title studio  domestic_gross  \\\n",
       "0                                  Toy Story 3     BV     415000000.0   \n",
       "1                   Alice in Wonderland (2010)     BV     334200000.0   \n",
       "2  Harry Potter and the Deathly Hallows Part 1     WB     296000000.0   \n",
       "3                                    Inception     WB     292600000.0   \n",
       "4                          Shrek Forever After   P/DW     238700000.0   \n",
       "\n",
       "  foreign_gross  year  \n",
       "0     652000000  2010  \n",
       "1     691300000  2010  \n",
       "2     664300000  2010  \n",
       "3     535700000  2010  \n",
       "4     513900000  2010  "
      ]
     },
     "metadata": {},
     "output_type": "display_data"
    },
    {
     "name": "stdout",
     "output_type": "stream",
     "text": [
      "\n",
      "Merged IMDb Data:\n"
     ]
    },
    {
     "data": {
      "text/html": [
       "<div>\n",
       "<style scoped>\n",
       "    .dataframe tbody tr th:only-of-type {\n",
       "        vertical-align: middle;\n",
       "    }\n",
       "\n",
       "    .dataframe tbody tr th {\n",
       "        vertical-align: top;\n",
       "    }\n",
       "\n",
       "    .dataframe thead th {\n",
       "        text-align: right;\n",
       "    }\n",
       "</style>\n",
       "<table border=\"1\" class=\"dataframe\">\n",
       "  <thead>\n",
       "    <tr style=\"text-align: right;\">\n",
       "      <th></th>\n",
       "      <th>movie_id</th>\n",
       "      <th>primary_title</th>\n",
       "      <th>original_title</th>\n",
       "      <th>start_year</th>\n",
       "      <th>runtime_minutes</th>\n",
       "      <th>genres</th>\n",
       "      <th>averagerating</th>\n",
       "      <th>numvotes</th>\n",
       "    </tr>\n",
       "  </thead>\n",
       "  <tbody>\n",
       "    <tr>\n",
       "      <th>0</th>\n",
       "      <td>tt0063540</td>\n",
       "      <td>Sunghursh</td>\n",
       "      <td>Sunghursh</td>\n",
       "      <td>2013</td>\n",
       "      <td>175.0</td>\n",
       "      <td>Action,Crime,Drama</td>\n",
       "      <td>7.0</td>\n",
       "      <td>77</td>\n",
       "    </tr>\n",
       "    <tr>\n",
       "      <th>1</th>\n",
       "      <td>tt0066787</td>\n",
       "      <td>One Day Before the Rainy Season</td>\n",
       "      <td>Ashad Ka Ek Din</td>\n",
       "      <td>2019</td>\n",
       "      <td>114.0</td>\n",
       "      <td>Biography,Drama</td>\n",
       "      <td>7.2</td>\n",
       "      <td>43</td>\n",
       "    </tr>\n",
       "    <tr>\n",
       "      <th>2</th>\n",
       "      <td>tt0069049</td>\n",
       "      <td>The Other Side of the Wind</td>\n",
       "      <td>The Other Side of the Wind</td>\n",
       "      <td>2018</td>\n",
       "      <td>122.0</td>\n",
       "      <td>Drama</td>\n",
       "      <td>6.9</td>\n",
       "      <td>4517</td>\n",
       "    </tr>\n",
       "    <tr>\n",
       "      <th>3</th>\n",
       "      <td>tt0069204</td>\n",
       "      <td>Sabse Bada Sukh</td>\n",
       "      <td>Sabse Bada Sukh</td>\n",
       "      <td>2018</td>\n",
       "      <td>NaN</td>\n",
       "      <td>Comedy,Drama</td>\n",
       "      <td>6.1</td>\n",
       "      <td>13</td>\n",
       "    </tr>\n",
       "    <tr>\n",
       "      <th>4</th>\n",
       "      <td>tt0100275</td>\n",
       "      <td>The Wandering Soap Opera</td>\n",
       "      <td>La Telenovela Errante</td>\n",
       "      <td>2017</td>\n",
       "      <td>80.0</td>\n",
       "      <td>Comedy,Drama,Fantasy</td>\n",
       "      <td>6.5</td>\n",
       "      <td>119</td>\n",
       "    </tr>\n",
       "  </tbody>\n",
       "</table>\n",
       "</div>"
      ],
      "text/plain": [
       "    movie_id                    primary_title              original_title  \\\n",
       "0  tt0063540                        Sunghursh                   Sunghursh   \n",
       "1  tt0066787  One Day Before the Rainy Season             Ashad Ka Ek Din   \n",
       "2  tt0069049       The Other Side of the Wind  The Other Side of the Wind   \n",
       "3  tt0069204                  Sabse Bada Sukh             Sabse Bada Sukh   \n",
       "4  tt0100275         The Wandering Soap Opera       La Telenovela Errante   \n",
       "\n",
       "   start_year  runtime_minutes                genres  averagerating  numvotes  \n",
       "0        2013            175.0    Action,Crime,Drama            7.0        77  \n",
       "1        2019            114.0       Biography,Drama            7.2        43  \n",
       "2        2018            122.0                 Drama            6.9      4517  \n",
       "3        2018              NaN          Comedy,Drama            6.1        13  \n",
       "4        2017             80.0  Comedy,Drama,Fantasy            6.5       119  "
      ]
     },
     "metadata": {},
     "output_type": "display_data"
    }
   ],
   "source": [
    "box_office_mojo_path = 'Data/bom.movie_gross.csv'\n",
    "imdb_data_path = 'Data/im.db'\n",
    "\n",
    "try:\n",
    "    # Load the data\n",
    "    bom_data = load_box_office_mojo_data(box_office_mojo_path)\n",
    "    movie_basics, movie_ratings = load_imdb_data(imdb_data_path)\n",
    "    \n",
    "    # Clean the data\n",
    "    cleaned_bom_data = clean_box_office_data(bom_data)\n",
    "    cleaned_imdb_data = clean_imdb_data(movie_basics, movie_ratings)\n",
    "    \n",
    "    # Display the cleaned data\n",
    "    print(\"Cleaned Box Office Mojo Data:\")\n",
    "    display(cleaned_bom_data.head())\n",
    "\n",
    "    print(\"\\nMerged IMDb Data:\")\n",
    "    display(cleaned_imdb_data.head())\n",
    "\n",
    "except FileNotFoundError as e:\n",
    "    print(f\"Error: {e}\")\n",
    "    print(\"Please ensure that the files 'bom.movie_gross.csv' and 'im.db' are located in the 'Data' directory.\")\n",
    "\n",
    "except KeyError as e:\n",
    "    print(f\"Error: {e}\")\n",
    "    print(\"The 'movie_id' column is missing in one of the DataFrames. Please check the data.\")\n"
   ]
  },
  {
   "cell_type": "markdown",
   "metadata": {},
   "source": [
    "### Data Analysis"
   ]
  },
  {
   "cell_type": "code",
   "execution_count": 139,
   "metadata": {},
   "outputs": [],
   "source": [
    "import pandas as pd\n",
    "\n",
    "def analyze_genre_performance(df):\n",
    "    return df.groupby('genre')['gross'].sum().sort_values(ascending=False)\n",
    "\n",
    "def analyze_correlation(df):\n",
    "    return df.corr()\n",
    "\n",
    "def analyze_seasonal_trends(df):\n",
    "    df['release_month'] = pd.to_datetime(df['release_date']).dt.month\n",
    "    return df.groupby('release_month')['gross'].sum()\n"
   ]
  },
  {
   "cell_type": "code",
   "execution_count": 140,
   "metadata": {},
   "outputs": [],
   "source": [
    "def analyze_genre_performance(df):\n",
    "    \"\"\"\n",
    "    Analyzes the performance of genres based on box office gross.\n",
    "    \n",
    "    Args:\n",
    "    df (pd.DataFrame): DataFrame containing box office data with a 'genres' column and 'domestic_gross'.\n",
    "    \n",
    "    Returns:\n",
    "    pd.DataFrame: DataFrame summarizing the average domestic gross for each genre.\n",
    "    \"\"\""
   ]
  },
  {
   "cell_type": "code",
   "execution_count": 141,
   "metadata": {},
   "outputs": [],
   "source": [
    "def analyze_genre_performance(df):\n",
    "    \"\"\"\n",
    "    Analyzes the performance of genres based on box office gross.\n",
    "    \n",
    "    Args:\n",
    "    df (pd.DataFrame): DataFrame containing box office data with a 'genres' column and 'domestic_gross'.\n",
    "    \n",
    "    Returns:\n",
    "    pd.DataFrame: DataFrame summarizing the average domestic gross for each genre.\n",
    "    \"\"\"\n",
    "    # Split genres and explode into separate rows\n",
    "    df = df.assign(genres=df['genres'].str.split(',')).explode('genres')\n",
    "    \n",
    "    # Group by genres and calculate the average domestic gross\n",
    "    genre_performance = df.groupby('genres')['domestic_gross'].mean().reset_index()\n",
    "    genre_performance = genre_performance.sort_values(by='domestic_gross', ascending=False)\n",
    "    \n",
    "    return genre_performance"
   ]
  },
  {
   "cell_type": "code",
   "execution_count": 142,
   "metadata": {},
   "outputs": [],
   "source": [
    "import pandas as pd\n",
    "import sqlite3\n",
    "import matplotlib.pyplot as plt"
   ]
  },
  {
   "cell_type": "code",
   "execution_count": 143,
   "metadata": {},
   "outputs": [
    {
     "name": "stdout",
     "output_type": "stream",
     "text": [
      "Error: 'genres' column is missing in the cleaned data.\n"
     ]
    }
   ],
   "source": [
    "# Check if the 'genres' column exists in cleaned_bom_data DataFrame\n",
    "if 'genres' not in cleaned_bom_data.columns:\n",
    "    print(\"Error: 'genres' column is missing in the cleaned data.\")\n",
    "else:\n",
    "    # Analyze genre performance\n",
    "    genre_performance = analyze_genre_performance(cleaned_bom_data)\n",
    "    \n",
    "    # Display genre performance analysis\n",
    "    print(\"Genre Performance Analysis:\")\n",
    "    display(genre_performance)\n"
   ]
  },
  {
   "cell_type": "code",
   "execution_count": 144,
   "metadata": {},
   "outputs": [
    {
     "name": "stdout",
     "output_type": "stream",
     "text": [
      "Error: 'genres' column is missing in the cleaned data.\n"
     ]
    }
   ],
   "source": [
    "def clean_box_office_data(df):\n",
    "    # Drop rows with missing values in 'domestic_gross' column\n",
    "    df = df.dropna(subset=['domestic_gross'])\n",
    "    \n",
    "    # Check if the 'genres' column exists\n",
    "    if 'genres' not in df.columns:\n",
    "        print(\"Error: 'genres' column is missing in the DataFrame.\")\n",
    "    else:\n",
    "        # Remove special characters and convert 'domestic_gross' to float\n",
    "        df['domestic_gross'] = df['domestic_gross'].replace('[\\$,]', '', regex=True).astype(float)\n",
    "        \n",
    "        # Split genres and explode into separate rows\n",
    "        df = df.assign(genres=df['genres'].str.split(',')).explode('genres')\n",
    "        \n",
    "    return df\n",
    "# Check if the 'genres' column exists in cleaned_bom_data DataFrame\n",
    "if 'genres' not in cleaned_bom_data.columns:\n",
    "    print(\"Error: 'genres' column is missing in the cleaned data.\")\n",
    "else:\n",
    "    # Analyze genre performance\n",
    "    genre_performance = analyze_genre_performance(cleaned_bom_data)\n",
    "    \n",
    "    # Display genre performance analysis\n",
    "    print(\"Genre Performance Analysis:\")\n",
    "    display(genre_performance)\n"
   ]
  },
  {
   "cell_type": "code",
   "execution_count": 145,
   "metadata": {},
   "outputs": [
    {
     "name": "stdout",
     "output_type": "stream",
     "text": [
      "Error: 'genres' column is missing in the cleaned data.\n"
     ]
    }
   ],
   "source": [
    "def clean_box_office_data(df):\n",
    "    # Drop rows with missing values in 'domestic_gross' column\n",
    "    df = df.dropna(subset=['domestic_gross'])\n",
    "    \n",
    "    # Check if the 'genres' column exists\n",
    "    if 'genres' not in df.columns:\n",
    "        print(\"Error: 'genres' column is missing in the DataFrame.\")\n",
    "    else:\n",
    "        # Remove special characters and convert 'domestic_gross' to float\n",
    "        df['domestic_gross'] = df['domestic_gross'].replace('[\\$,]', '', regex=True).astype(float)\n",
    "        \n",
    "        # Split genres and explode into separate rows\n",
    "        df = df.assign(genres=df['genres'].str.split(',')).explode('genres')\n",
    "        \n",
    "    return df\n",
    "# Check if the 'genres' column exists in cleaned_bom_data DataFrame\n",
    "if 'genres' not in cleaned_bom_data.columns:\n",
    "    print(\"Error: 'genres' column is missing in the cleaned data.\")\n",
    "else:\n",
    "    # Analyze genre performance\n",
    "    genre_performance = analyze_genre_performance(cleaned_bom_data)\n",
    "    \n",
    "    # Display genre performance analysis\n",
    "    print(\"Genre Performance Analysis:\")\n",
    "    display(genre_performance)\n"
   ]
  },
  {
   "cell_type": "code",
   "execution_count": 146,
   "metadata": {},
   "outputs": [],
   "source": [
    "def clean_box_office_data(df):\n",
    "    # Drop rows with missing values in 'domestic_gross' column\n",
    "    df = df.dropna(subset=['domestic_gross'])\n",
    "    \n",
    "    # Check if the 'genres' column exists\n",
    "    if 'genres' not in df.columns:\n",
    "        print(\"Error: 'genres' column is missing in the DataFrame.\")\n",
    "    else:\n",
    "        # Remove special characters and convert 'domestic_gross' to float\n",
    "        df['domestic_gross'] = df['domestic_gross'].replace('[\\$,]', '', regex=True).astype(float)\n",
    "        \n",
    "        # Split genres and explode into separate rows\n",
    "        df = df.assign(genres=df['genres'].str.split(',')).explode('genres')\n",
    "        \n",
    "    return df\n"
   ]
  },
  {
   "cell_type": "code",
   "execution_count": 147,
   "metadata": {},
   "outputs": [
    {
     "name": "stdout",
     "output_type": "stream",
     "text": [
      "Error: 'genres' column is missing in the DataFrame.\n",
      "Error: 'genres' column is missing in the cleaned DataFrame. Please review the data cleaning process.\n"
     ]
    }
   ],
   "source": [
    "# Clean the data\n",
    "cleaned_bom_data = clean_box_office_data(bom_data)\n",
    "\n",
    "# Verify if the 'genres' column is present in the cleaned DataFrame\n",
    "if 'genres' in cleaned_bom_data.columns:\n",
    "    # Proceed with data analysis\n",
    "    try:\n",
    "        # Analyze genre performance\n",
    "        genre_performance = analyze_genre_performance(cleaned_bom_data)\n",
    "        print(\"Genre Performance Analysis:\")\n",
    "        display(genre_performance)\n",
    "\n",
    "        # Analyze correlation matrix\n",
    "        correlation_matrix = analyze_correlation(imdb_data)\n",
    "        print(\"Correlation Matrix:\")\n",
    "        display(correlation_matrix)\n",
    "\n",
    "        # Analyze seasonal trends\n",
    "        seasonal_trends = analyze_seasonal_trends(cleaned_bom_data)\n",
    "        print(\"Seasonal Trends Analysis:\")\n",
    "        display(seasonal_trends)\n",
    "\n",
    "    except KeyError as e:\n",
    "        print(f\"Error: {e} column is missing in the DataFrame.\")\n",
    "else:\n",
    "    print(\"Error: 'genres' column is missing in the cleaned DataFrame. Please review the data cleaning process.\")\n"
   ]
  },
  {
   "cell_type": "code",
   "execution_count": 161,
   "metadata": {},
   "outputs": [
    {
     "name": "stdout",
     "output_type": "stream",
     "text": [
      "Error: \"'tconst' column is missing in one of the DataFrames.\"\n",
      "The 'tconst' column is missing in one of the DataFrames. Please check the data.\n"
     ]
    },
    {
     "name": "stderr",
     "output_type": "stream",
     "text": [
      "C:\\Users\\hp\\AppData\\Local\\Temp\\ipykernel_42132\\2273468982.py:18: SettingWithCopyWarning: \n",
      "A value is trying to be set on a copy of a slice from a DataFrame.\n",
      "Try using .loc[row_indexer,col_indexer] = value instead\n",
      "\n",
      "See the caveats in the documentation: https://pandas.pydata.org/pandas-docs/stable/user_guide/indexing.html#returning-a-view-versus-a-copy\n",
      "  df['domestic_gross'] = df['domestic_gross'].replace('[\\$,]', '', regex=True).astype(float)\n"
     ]
    }
   ],
   "source": [
    "import pandas as pd\n",
    "import sqlite3\n",
    "\n",
    "# Data Loading\n",
    "def load_box_office_mojo_data(filepath):\n",
    "    return pd.read_csv(filepath)\n",
    "\n",
    "def load_imdb_data(db_path):\n",
    "    conn = sqlite3.connect(db_path)\n",
    "    movie_basics = pd.read_sql_query(\"SELECT * FROM movie_basics\", conn)\n",
    "    movie_ratings = pd.read_sql_query(\"SELECT * FROM movie_ratings\", conn)\n",
    "    conn.close()\n",
    "    return movie_basics, movie_ratings\n",
    "\n",
    "# Data Cleaning\n",
    "def clean_box_office_data(df):\n",
    "    df = df.dropna(subset=['domestic_gross'])\n",
    "    df['domestic_gross'] = df['domestic_gross'].replace('[\\$,]', '', regex=True).astype(float)\n",
    "    return df\n",
    "\n",
    "# Data Merging\n",
    "def merge_imdb_data(movie_basics, movie_ratings):\n",
    "    if 'tconst' not in movie_basics.columns or 'tconst' not in movie_ratings.columns:\n",
    "        raise KeyError(\"'tconst' column is missing in one of the DataFrames.\")\n",
    "    return pd.merge(movie_basics, movie_ratings, on='tconst', how='inner')\n",
    "\n",
    "# Data Analysis\n",
    "def analyze_genre_performance(df):\n",
    "    return df.groupby('genre')['gross'].sum().sort_values(ascending=False)\n",
    "\n",
    "try:\n",
    "    # Load the data\n",
    "    bom_data = load_box_office_mojo_data('Data/bom.movie_gross.csv')\n",
    "    movie_basics, movie_ratings = load_imdb_data('Data/im.db')\n",
    "\n",
    "    # Clean data\n",
    "    bom_data = clean_box_office_data(bom_data)\n",
    "    imdb_data = merge_imdb_data(movie_basics, movie_ratings)\n",
    "\n",
    "    # Analyze genre performance\n",
    "    genre_performance = analyze_genre_performance(bom_data)\n",
    "    print(genre_performance)\n",
    "\n",
    "except FileNotFoundError as e:\n",
    "    print(f\"Error: {e}\")\n",
    "    print(\"Please ensure that the files 'bom.movie_gross.csv' and 'im.db' are located in the 'Data' directory.\")\n",
    "\n",
    "except KeyError as e:\n",
    "    print(f\"Error: {e}\")\n",
    "    print(\"The 'tconst' column is missing in one of the DataFrames. Please check the data.\")\n"
   ]
  },
  {
   "cell_type": "code",
   "execution_count": 162,
   "metadata": {},
   "outputs": [
    {
     "name": "stdout",
     "output_type": "stream",
     "text": [
      "Error: \"'tconst' column is missing in one of the DataFrames.\"\n",
      "The 'tconst' column is missing in one of the DataFrames. Please check the data.\n"
     ]
    },
    {
     "name": "stderr",
     "output_type": "stream",
     "text": [
      "C:\\Users\\hp\\AppData\\Local\\Temp\\ipykernel_42132\\2273468982.py:18: SettingWithCopyWarning: \n",
      "A value is trying to be set on a copy of a slice from a DataFrame.\n",
      "Try using .loc[row_indexer,col_indexer] = value instead\n",
      "\n",
      "See the caveats in the documentation: https://pandas.pydata.org/pandas-docs/stable/user_guide/indexing.html#returning-a-view-versus-a-copy\n",
      "  df['domestic_gross'] = df['domestic_gross'].replace('[\\$,]', '', regex=True).astype(float)\n"
     ]
    }
   ],
   "source": [
    "import pandas as pd\n",
    "import sqlite3\n",
    "\n",
    "# Data Loading\n",
    "def load_box_office_mojo_data(filepath):\n",
    "    return pd.read_csv(filepath)\n",
    "\n",
    "def load_imdb_data(db_path):\n",
    "    conn = sqlite3.connect(db_path)\n",
    "    movie_basics = pd.read_sql_query(\"SELECT * FROM movie_basics\", conn)\n",
    "    movie_ratings = pd.read_sql_query(\"SELECT * FROM movie_ratings\", conn)\n",
    "    conn.close()\n",
    "    return movie_basics, movie_ratings\n",
    "\n",
    "# Data Cleaning\n",
    "def clean_box_office_data(df):\n",
    "    df = df.dropna(subset=['domestic_gross'])\n",
    "    df['domestic_gross'] = df['domestic_gross'].replace('[\\$,]', '', regex=True).astype(float)\n",
    "    return df\n",
    "\n",
    "# Data Merging\n",
    "def merge_imdb_data(movie_basics, movie_ratings):\n",
    "    if 'tconst' not in movie_basics.columns or 'tconst' not in movie_ratings.columns:\n",
    "        raise KeyError(\"'tconst' column is missing in one of the DataFrames.\")\n",
    "    return pd.merge(movie_basics, movie_ratings, on='tconst', how='inner')\n",
    "\n",
    "# Data Analysis\n",
    "def analyze_genre_performance(df):\n",
    "    return df.groupby('genre')['gross'].sum().sort_values(ascending=False)\n",
    "\n",
    "try:\n",
    "    # Load the data\n",
    "    bom_data = load_box_office_mojo_data('Data/bom.movie_gross.csv')\n",
    "    movie_basics, movie_ratings = load_imdb_data('Data/im.db')\n",
    "\n",
    "    # Clean data\n",
    "    bom_data = clean_box_office_data(bom_data)\n",
    "    imdb_data = merge_imdb_data(movie_basics, movie_ratings)\n",
    "\n",
    "    # Analyze genre performance\n",
    "    genre_performance = analyze_genre_performance(bom_data)\n",
    "    print(genre_performance)\n",
    "\n",
    "except FileNotFoundError as e:\n",
    "    print(f\"Error: {e}\")\n",
    "    print(\"Please ensure that the files 'bom.movie_gross.csv' and 'im.db' are located in the 'Data' directory.\")\n",
    "\n",
    "except KeyError as e:\n",
    "    print(f\"Error: {e}\")\n",
    "    print(\"The 'tconst' column is missing in one of the DataFrames. Please check the data.\")\n"
   ]
  },
  {
   "cell_type": "code",
   "execution_count": null,
   "metadata": {},
   "outputs": [],
   "source": []
  },
  {
   "cell_type": "code",
   "execution_count": 164,
   "metadata": {},
   "outputs": [
    {
     "name": "stdout",
     "output_type": "stream",
     "text": [
      "Error: \"'tconst' column is missing in one of the DataFrames.\"\n",
      "The 'tconst' column is missing in one of the DataFrames. Please check the data.\n"
     ]
    },
    {
     "name": "stderr",
     "output_type": "stream",
     "text": [
      "C:\\Users\\hp\\AppData\\Local\\Temp\\ipykernel_42132\\493775676.py:18: SettingWithCopyWarning: \n",
      "A value is trying to be set on a copy of a slice from a DataFrame.\n",
      "Try using .loc[row_indexer,col_indexer] = value instead\n",
      "\n",
      "See the caveats in the documentation: https://pandas.pydata.org/pandas-docs/stable/user_guide/indexing.html#returning-a-view-versus-a-copy\n",
      "  cleaned_df['domestic_gross'] = cleaned_df['domestic_gross'].replace('[\\$,]', '', regex=True).astype(float)\n"
     ]
    }
   ],
   "source": [
    "import pandas as pd\n",
    "import sqlite3\n",
    "\n",
    "# Data Loading\n",
    "def load_box_office_mojo_data(filepath):\n",
    "    return pd.read_csv(filepath)\n",
    "\n",
    "def load_imdb_data(db_path):\n",
    "    conn = sqlite3.connect(db_path)\n",
    "    movie_basics = pd.read_sql_query(\"SELECT * FROM movie_basics\", conn)\n",
    "    movie_ratings = pd.read_sql_query(\"SELECT * FROM movie_ratings\", conn)\n",
    "    conn.close()\n",
    "    return movie_basics, movie_ratings\n",
    "\n",
    "# Data Cleaning\n",
    "def clean_box_office_data(df):\n",
    "    cleaned_df = df.dropna(subset=['domestic_gross'])\n",
    "    cleaned_df['domestic_gross'] = cleaned_df['domestic_gross'].replace('[\\$,]', '', regex=True).astype(float)\n",
    "    return cleaned_df\n",
    "\n",
    "# Data Analysis\n",
    "def analyze_genre_performance(df):\n",
    "    return df.groupby('genre')['gross'].sum().sort_values(ascending=False)\n",
    "\n",
    "try:\n",
    "    # Load the data\n",
    "    bom_data = load_box_office_mojo_data('Data/bom.movie_gross.csv')\n",
    "    movie_basics, movie_ratings = load_imdb_data('Data/im.db')\n",
    "\n",
    "    # Clean data\n",
    "    cleaned_bom_data = clean_box_office_data(bom_data)\n",
    "\n",
    "    # Check if 'tconst' column exists before merging\n",
    "    if 'tconst' not in movie_basics.columns or 'tconst' not in movie_ratings.columns:\n",
    "        raise KeyError(\"'tconst' column is missing in one of the DataFrames.\")\n",
    "\n",
    "    # Merge data\n",
    "    merged_imdb_data = pd.merge(movie_basics, movie_ratings, on='tconst', how='inner')\n",
    "\n",
    "    # Analyze genre performance\n",
    "    genre_performance = analyze_genre_performance(cleaned_bom_data)\n",
    "    print(genre_performance)\n",
    "\n",
    "except FileNotFoundError as e:\n",
    "    print(f\"Error: {e}\")\n",
    "    print(\"Please ensure that the files 'bom.movie_gross.csv' and 'im.db' are located in the 'Data' directory.\")\n",
    "\n",
    "except KeyError as e:\n",
    "    print(f\"Error: {e}\")\n",
    "    print(\"The 'tconst' column is missing in one of the DataFrames. Please check the data.\")\n"
   ]
  },
  {
   "cell_type": "markdown",
   "metadata": {},
   "source": [
    "###  Data Visualization"
   ]
  },
  {
   "cell_type": "code",
   "execution_count": 165,
   "metadata": {},
   "outputs": [
    {
     "name": "stdout",
     "output_type": "stream",
     "text": [
      "Genre Performance:\n"
     ]
    },
    {
     "data": {
      "image/png": "[encoded data removed]",
      "text/plain": [
       "<Figure size 640x480 with 1 Axes>"
      ]
     },
     "metadata": {},
     "output_type": "display_data"
    },
    {
     "name": "stdout",
     "output_type": "stream",
     "text": [
      "Correlation Matrix:\n"
     ]
    },
    {
     "data": {
      "image/png": "[encoded data removed]",
      "text/plain": [
       "<Figure size 480x480 with 2 Axes>"
      ]
     },
     "metadata": {},
     "output_type": "display_data"
    },
    {
     "name": "stdout",
     "output_type": "stream",
     "text": [
      "Seasonal Trends:\n"
     ]
    },
    {
     "data": {
      "image/png": "[encoded data removed]",
      "text/plain": [
       "<Figure size 640x480 with 1 Axes>"
      ]
     },
     "metadata": {},
     "output_type": "display_data"
    }
   ],
   "source": [
    "import pandas as pd\n",
    "import matplotlib.pyplot as plt\n",
    "\n",
    "# Function to plot genre performance\n",
    "def plot_genre_performance(genre_performance):\n",
    "    genre_performance.plot(kind='bar')\n",
    "    plt.title('Total Gross Revenue by Genre')\n",
    "    plt.xlabel('Genre')\n",
    "    plt.ylabel('Total Gross Revenue')\n",
    "    plt.show()\n",
    "\n",
    "# Function to plot correlation matrix\n",
    "def plot_correlation_matrix(correlation_matrix):\n",
    "    plt.matshow(correlation_matrix)\n",
    "    plt.title('Correlation Matrix')\n",
    "    plt.colorbar()\n",
    "    plt.show()\n",
    "\n",
    "# Function to plot seasonal trends\n",
    "def plot_seasonal_trends(seasonal_trends):\n",
    "    seasonal_trends.plot(kind='bar')\n",
    "    plt.title('Monthly Gross Revenue')\n",
    "    plt.xlabel('Month')\n",
    "    plt.ylabel('Total Gross Revenue')\n",
    "    plt.show()\n",
    "\n",
    "# Sample data\n",
    "genre_performance = pd.DataFrame({'genre': ['Action', 'Comedy', 'Drama'],\n",
    "                                  'gross': [1000000, 2000000, 1500000]})\n",
    "correlation_matrix = pd.DataFrame([[1, 0.5, 0.3], [0.5, 1, 0.6], [0.3, 0.6, 1]], columns=['gross', 'rating', 'votes'])\n",
    "seasonal_trends = pd.DataFrame({'release_month': [1, 2, 3],\n",
    "                                'gross': [500000, 700000, 600000]})\n",
    "\n",
    "# Plotting\n",
    "print(\"Genre Performance:\")\n",
    "plot_genre_performance(genre_performance)\n",
    "\n",
    "print(\"Correlation Matrix:\")\n",
    "plot_correlation_matrix(correlation_matrix)\n",
    "\n",
    "print(\"Seasonal Trends:\")\n",
    "plot_seasonal_trends(seasonal_trends)\n"
   ]
  }
 ],
 "metadata": {
  "kernelspec": {
   "display_name": "Python (learn-env)",
   "language": "python",
   "name": "learn-env"
  },
  "language_info": {
   "codemirror_mode": {
    "name": "ipython",
    "version": 3
   },
   "file_extension": ".py",
   "mimetype": "text/x-python",
   "name": "python",
   "nbconvert_exporter": "python",
   "pygments_lexer": "ipython3",
   "version": "3.8.5"
  }
 },
 "nbformat": 4,
 "nbformat_minor": 2
}
